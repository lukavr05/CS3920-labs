{
 "cells": [
  {
   "cell_type": "markdown",
   "id": "cf36111f",
   "metadata": {},
   "source": [
    "# Lab 3\n",
    "\n",
    "## Reading `NumPy` Arrays"
   ]
  },
  {
   "cell_type": "code",
   "execution_count": null,
   "id": "85486406",
   "metadata": {},
   "outputs": [
    {
     "data": {
      "text/plain": [
       "array([[ 1.     ,  0.     ,  0.99539, -0.05889,  0.85243,  0.02306,\n",
       "         0.83398, -0.37708,  1.     ,  0.0376 ,  0.85243, -0.17755,\n",
       "         0.59755, -0.44945,  0.60536, -0.38223,  0.84356, -0.38542,\n",
       "         0.58212, -0.32192,  0.56971, -0.29674,  0.36946, -0.47357,\n",
       "         0.56811, -0.51171,  0.41078, -0.46168,  0.21266, -0.3409 ,\n",
       "         0.42267, -0.54487,  0.18641, -0.453  ,  1.     ],\n",
       "       [ 1.     ,  0.     ,  1.     , -0.18829,  0.93035, -0.36156,\n",
       "        -0.10868, -0.93597,  1.     , -0.04549,  0.50874, -0.67743,\n",
       "         0.34432, -0.69707, -0.51685, -0.97515,  0.05499, -0.62237,\n",
       "         0.33109, -1.     , -0.13151, -0.453  , -0.18056, -0.35734,\n",
       "        -0.20332, -0.26569, -0.20468, -0.18401, -0.1904 , -0.11593,\n",
       "        -0.16626, -0.06288, -0.13738, -0.02447, -1.     ],\n",
       "       [ 1.     ,  0.     ,  1.     , -0.03365,  1.     ,  0.00485,\n",
       "         1.     , -0.12062,  0.88965,  0.01198,  0.73082,  0.05346,\n",
       "         0.85443,  0.00827,  0.54591,  0.00299,  0.83775, -0.13644,\n",
       "         0.75535, -0.0854 ,  0.70887, -0.27502,  0.43385, -0.12062,\n",
       "         0.57528, -0.4022 ,  0.58984, -0.22145,  0.431  , -0.17365,\n",
       "         0.60436, -0.2418 ,  0.56045, -0.38238,  1.     ]])"
      ]
     },
     "execution_count": 1,
     "metadata": {},
     "output_type": "execute_result"
    }
   ],
   "source": [
    "import numpy as np\n",
    "X = np.genfromtxt(\"ionosphere.txt\", delimiter=\",\")\n",
    "X[:3]"
   ]
  },
  {
   "cell_type": "code",
   "execution_count": 2,
   "id": "0adc575c",
   "metadata": {},
   "outputs": [
    {
     "data": {
      "text/plain": [
       "35"
      ]
     },
     "execution_count": 2,
     "metadata": {},
     "output_type": "execute_result"
    }
   ],
   "source": [
    "len(X[0])"
   ]
  },
  {
   "cell_type": "code",
   "execution_count": 7,
   "id": "f263aa31",
   "metadata": {},
   "outputs": [
    {
     "name": "stdout",
     "output_type": "stream",
     "text": [
      "[[ 1.       0.       0.99539 -0.05889  0.85243  0.02306  0.83398 -0.37708\n",
      "   1.       0.0376   0.85243 -0.17755  0.59755 -0.44945  0.60536 -0.38223\n",
      "   0.84356 -0.38542  0.58212 -0.32192  0.56971 -0.29674  0.36946 -0.47357\n",
      "   0.56811 -0.51171  0.41078 -0.46168  0.21266 -0.3409   0.42267 -0.54487\n",
      "   0.18641 -0.453  ]\n",
      " [ 1.       0.       1.      -0.18829  0.93035 -0.36156 -0.10868 -0.93597\n",
      "   1.      -0.04549  0.50874 -0.67743  0.34432 -0.69707 -0.51685 -0.97515\n",
      "   0.05499 -0.62237  0.33109 -1.      -0.13151 -0.453   -0.18056 -0.35734\n",
      "  -0.20332 -0.26569 -0.20468 -0.18401 -0.1904  -0.11593 -0.16626 -0.06288\n",
      "  -0.13738 -0.02447]\n",
      " [ 1.       0.       1.      -0.03365  1.       0.00485  1.      -0.12062\n",
      "   0.88965  0.01198  0.73082  0.05346  0.85443  0.00827  0.54591  0.00299\n",
      "   0.83775 -0.13644  0.75535 -0.0854   0.70887 -0.27502  0.43385 -0.12062\n",
      "   0.57528 -0.4022   0.58984 -0.22145  0.431   -0.17365  0.60436 -0.2418\n",
      "   0.56045 -0.38238]]\n",
      "[ 1 -1  1]\n"
     ]
    }
   ],
   "source": [
    "X = np.genfromtxt(\"ionosphere.txt\", delimiter=\",\", usecols=np.arange(34))\n",
    "print(X[:3])\n",
    "\n",
    "y = np.genfromtxt(\"ionosphere.txt\", delimiter=\",\", usecols=34, dtype='int')\n",
    "print(y[:3])"
   ]
  },
  {
   "cell_type": "code",
   "execution_count": 8,
   "id": "92de07c5",
   "metadata": {},
   "outputs": [
    {
     "name": "stdout",
     "output_type": "stream",
     "text": [
      "[  0   1   2 ... 998 999   4]\n"
     ]
    }
   ],
   "source": [
    "my_array = np.concatenate((np.arange(1000), np.array([4])))\n",
    "print(my_array)"
   ]
  },
  {
   "cell_type": "code",
   "execution_count": 29,
   "id": "e78e6a62",
   "metadata": {},
   "outputs": [
    {
     "name": "stdout",
     "output_type": "stream",
     "text": [
      "13.416407864998739\n",
      "7.963180541992188e-05 seconds\n"
     ]
    }
   ],
   "source": [
    "import time\n",
    "def computeEuclideanNorm(vector: np.array) -> float:\n",
    "    \"\"\"Computes the Euclidean norm of a vector by summing the squares of each entry then square rooting\"\"\"\n",
    "\n",
    "    sum = 0\n",
    "    for i in range(0,vector.size):\n",
    "        sum += np.power(vector[i], 2)\n",
    "    \n",
    "    return np.sqrt(sum)\n",
    "\n",
    "x = np.array([4,3,4,5,2,5,6,6,3,2])\n",
    "start = time.time()\n",
    "print(computeEuclideanNorm(x))\n",
    "print(time.time() - start,\"seconds\")"
   ]
  },
  {
   "cell_type": "code",
   "execution_count": 28,
   "id": "aa103c7a",
   "metadata": {},
   "outputs": [
    {
     "name": "stdout",
     "output_type": "stream",
     "text": [
      "2\n",
      "0.0002155303955078125 seconds\n"
     ]
    }
   ],
   "source": [
    "import math\n",
    "def computeMinimum(a: np.array):\n",
    "    \"\"\"Calculates the minimum value of an array\"\"\"\n",
    "\n",
    "    current_min = math.inf\n",
    "    for n in range(a.size):\n",
    "        if current_min > a[n]:\n",
    "            current_min = a[n]\n",
    "    \n",
    "    return current_min\n",
    "\n",
    "start = time.time()\n",
    "print(computeMinimum(x))\n",
    "print(time.time() - start,\"seconds\")"
   ]
  }
 ],
 "metadata": {
  "kernelspec": {
   "display_name": "Python 3",
   "language": "python",
   "name": "python3"
  },
  "language_info": {
   "codemirror_mode": {
    "name": "ipython",
    "version": 3
   },
   "file_extension": ".py",
   "mimetype": "text/x-python",
   "name": "python",
   "nbconvert_exporter": "python",
   "pygments_lexer": "ipython3",
   "version": "3.11.2"
  }
 },
 "nbformat": 4,
 "nbformat_minor": 5
}
