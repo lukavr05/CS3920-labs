{
 "cells": [
  {
   "cell_type": "markdown",
   "id": "4a7ed110",
   "metadata": {},
   "source": [
    "# Assignment 1\n",
    "\n",
    "This is my submission for Assignment 1 for my Machine Learning module (CS3920). Below is the core functionality of my machine learning algorithm. I opted to use the nearest neighbour (NN) method and a conformal predictor."
   ]
  },
  {
   "cell_type": "code",
   "execution_count": 74,
   "id": "61178e00",
   "metadata": {},
   "outputs": [],
   "source": [
    "import numpy as np\n",
    "import matplotlib.pyplot as plt\n",
    "import time\n",
    "from sklearn.datasets import load_iris\n",
    "from sklearn.model_selection import train_test_split\n",
    "\n",
    "\n",
    "iris = load_iris()\n",
    "iris_label_space = np.array([0,1,2])\n",
    "\n",
    "ion_X = np.genfromtxt(\"ionosphere.txt\", delimiter=\",\", usecols=np.arange(34))\n",
    "ion_y = np.genfromtxt(\"ionosphere.txt\", delimiter=\",\", usecols=34, dtype=\"int\")\n",
    "ion_label_space = np.array([1,-1])\n",
    "\n",
    "iris_X_train, iris_X_test, iris_y_train, iris_y_test = train_test_split(iris['data'], iris['target'], random_state=2408)\n",
    "ion_X_train, ion_X_test, ion_y_train, ion_y_test = train_test_split(ion_X, ion_y, random_state=2408)\n",
    "\n",
    "\n",
    "def computeEuclideanNorm(vector: np.ndarray) -> float:\n",
    "    \"\"\"\n",
    "        Computes the Euclidean norm of a vector by adding the squares of each value and square rooting\n",
    "    \"\"\"\n",
    "\n",
    "    total = 0\n",
    "    for i in range(0,vector.size):\n",
    "        total += vector[i] * vector[i]\n",
    "    \n",
    "    return np.sqrt(total)\n",
    "\n",
    "\n",
    "def calculateEuclideanDistance(v1: np.ndarray, v2: np.ndarray) -> float: \n",
    "    \"\"\"\n",
    "        Calculates the Euclidean distance between two points by computing the Euclidean norm of the vector distance\n",
    "    \"\"\"\n",
    "    diff = np.subtract(v1, v2)\n",
    "    return (computeEuclideanNorm(diff))\n",
    "\n",
    "\n",
    "def computeDistances(sample: np.ndarray, training_set: np.ndarray) -> np.ndarray:\n",
    "    \"\"\"\n",
    "        Calculates the distances from the given sample to all other points\n",
    "    \"\"\"\n",
    "\n",
    "    result = np.zeros(len(training_set))\n",
    "    for i in range(0, len(training_set)):\n",
    "        result[i] = calculateEuclideanDistance(sample, training_set[i])\n",
    "\n",
    "    return result\n",
    "\n",
    "\n",
    "def computeMinimum(a: np.ndarray):\n",
    "    \"\"\"\n",
    "        Calculates the minimum value of an array and returns it, along with its index\n",
    "    \"\"\"\n",
    "\n",
    "    current_min = np.inf\n",
    "    min_index = np.inf\n",
    "    for n in range(a.size):\n",
    "        if current_min > a[n]:\n",
    "            current_min = a[n]\n",
    "            min_index = n\n",
    "    \n",
    "    return current_min, min_index\n",
    "\n",
    "\n",
    "def computeMaximum(a: np.ndarray):\n",
    "    \"\"\"\n",
    "        Calculates the maximum value of an array and returns it, along with its index\n",
    "    \"\"\"\n",
    "    current_max = -np.inf\n",
    "    max_index = -np.inf\n",
    "    for i in range(a.size):\n",
    "        if current_max < a[i]:\n",
    "            current_max = a[i]\n",
    "            max_index = i\n",
    "\n",
    "    return current_max, max_index\n",
    "\n",
    "\n",
    "# IMPROVED CALCULATE NNs\n",
    "def calculateNNs(index: int, sample_y: int, y_training_set: np.ndarray, distances: np.ndarray):\n",
    "    \"\"\"\n",
    "        Calculate the nearest numbers by taking in a matrix of distances\n",
    "    \"\"\"\n",
    "    nn_dist_same = np.inf\n",
    "    nn_index_same = -1\n",
    "    nn_dist_diff = np.inf\n",
    "    nn_index_diff = -1\n",
    "\n",
    "    for i in range(len(y_training_set)):\n",
    "        if i == index:\n",
    "            continue  # skip comparing sample to itself\n",
    "\n",
    "        dist = distances[index][i]\n",
    "\n",
    "        if y_training_set[i] == sample_y:\n",
    "            if dist < nn_dist_same:\n",
    "                nn_dist_same = dist\n",
    "                nn_index_same = i\n",
    "        else:\n",
    "            if dist < nn_dist_diff:\n",
    "                nn_dist_diff = dist\n",
    "                nn_index_diff = i\n",
    "\n",
    "    return nn_dist_same, nn_index_same, nn_dist_diff, nn_index_diff\n",
    "\n",
    "def calculateConformityScores(sample_X: np.ndarray, sample_y: np.ndarray, X_training_set: np.ndarray, y_training_set: np.ndarray):\n",
    "    \"\"\"\n",
    "        Calculates the conformity score of a sample, using the NN of the same class / NN of different class.\n",
    "    \"\"\"\n",
    "    X_aug = np.concatenate((sample_X.reshape(1, -1), X_training_set), axis=0)\n",
    "    y_aug = np.concatenate(([sample_y], y_training_set)) # additional sample will be the FIRST in augmented set\n",
    "\n",
    "    n = len(X_aug)\n",
    "    scores = np.zeros(n)\n",
    "\n",
    "    distances = np.zeros((n, n))\n",
    "    for i in range(0, n):\n",
    "        for j in range(i + 1, n):\n",
    "            dist = calculateEuclideanDistance(X_aug[i], X_aug[j])\n",
    "            distances[i][j] = dist\n",
    "            distances[j][i] = dist\n",
    "\n",
    "    for i in range(0, n):\n",
    "        nn_dist_same, _, nn_dist_diff, _ = calculateNNs(i, y_aug[i], y_aug, distances)\n",
    "        \n",
    "        if nn_dist_same == 0:\n",
    "            if nn_dist_diff == 0:\n",
    "                scores[i] = 0\n",
    "            else:\n",
    "                scores[i] = np.inf\n",
    "        else:\n",
    "            scores[i] =  nn_dist_diff / nn_dist_same\n",
    "\n",
    "    \"\"\"\n",
    "    # OLD IMPLEMENTATION\n",
    "    for i in range(0, len(y_aug)):\n",
    "        X_new = np.delete(X_aug, i, axis=0)\n",
    "        y_new = np.delete(y_aug, i)\n",
    "        nn_dist_same, _, nn_dist_diff, _ = calculateNNs(X_aug[i], y_aug[i], X_new, y_new)\n",
    "        conformity_score = 0\n",
    "        if nn_dist_same == 0:\n",
    "            if nn_dist_diff == 0:\n",
    "                conformity_score = 0\n",
    "            else:\n",
    "                conformity_score = np.inf\n",
    "        else:\n",
    "            conformity_score =  nn_dist_diff / nn_dist_same\n",
    "\n",
    "        scores[i] = conformity_score\n",
    "    \"\"\"\n",
    "    return scores\n",
    "\n",
    "\n",
    "def calculatePValue(scores):\n",
    "    \"\"\"\n",
    "        Calculate a given p-value given the conformity scores\n",
    "    \"\"\"\n",
    "    test_score = scores[0]\n",
    "    other_scores = scores[1:]\n",
    "\n",
    "    rank = 0\n",
    "    for score in other_scores:\n",
    "        if score <= test_score:\n",
    "            rank += 1\n",
    "\n",
    "    p_value = (rank + 1) / len(scores)\n",
    "    return p_value\n",
    "\n",
    "\n",
    "def predict(Y, sample_X, X_training_set, y_training_set):\n",
    "    \"\"\"\n",
    "        Makes a prediction by computing p-values of all possible labels and selecting the highest one\n",
    "    \"\"\"\n",
    "\n",
    "    Y_size = len(Y)\n",
    "    p_values = np.zeros(Y_size)\n",
    "    for i in range (0, Y_size):\n",
    "        label = Y[i]\n",
    "        scores = calculateConformityScores(sample_X, label, X_training_set, y_training_set)\n",
    "        p_values[i] = calculatePValue(scores)\n",
    "\n",
    "    _, p = computeMaximum(p_values)\n",
    "\n",
    "    return Y[p]\n",
    "\n",
    "\n",
    "def score(predictions: np.ndarray, y_test_set: np.ndarray):\n",
    "    \"\"\"\n",
    "        Score the prediction set against the set of actual labels\n",
    "    \"\"\"\n",
    "    return np.mean(predictions == y_test_set)"
   ]
  },
  {
   "cell_type": "markdown",
   "id": "5650ec11",
   "metadata": {},
   "source": [
    "## Improvements\n",
    "\n",
    "I noticed using some older implementations of certain algorithms (particularly the NN algorithm) massively impacted running times. Where possible, I tried to implement mitigations to speed up running times.\n",
    "\n",
    "### Nearest Neighbour Algorithm\n",
    "\n",
    "Below is an old implementation of my nearest neighbour algorithm."
   ]
  },
  {
   "cell_type": "code",
   "execution_count": 23,
   "id": "bdfaff5a",
   "metadata": {},
   "outputs": [],
   "source": [
    "# OLD IMPLEMENTATION\n",
    "def calculateNNsOld(sample_X: np.ndarray, sample_y: np.ndarray, X_training_set: np.ndarray, y_training_set: np.ndarray):\n",
    "    nn_dist_same = np.inf\n",
    "    nn_index_same = np.inf\n",
    "    nn_dist_diff = np.inf\n",
    "    nn_index_diff = np.inf\n",
    "\n",
    "    for i in range(0,len(X_training_set)):\n",
    "        if y_training_set[i] == sample_y:\n",
    "            d = calculateEuclideanDistance(sample_X, X_training_set[i])\n",
    "            if d < nn_dist_same:\n",
    "                nn_dist_same = d\n",
    "                nn_index_same = i\n",
    "        else:\n",
    "            d = calculateEuclideanDistance(sample_X, X_training_set[i])\n",
    "            if d < nn_dist_diff:\n",
    "                nn_dist_diff = d\n",
    "                nn_index_diff = i\n",
    "\n",
    "    # print(\"Nearest (same):\", X_training_set[nn_index_same], \"Class:\", y_training_set[nn_index_same], \"Distance:\", nn_dist_same)\n",
    "    # print(\"Nearest (diff):\", X_training_set[nn_index_diff], \"Class:\", y_training_set[nn_index_diff], \"Distance:\", nn_dist_diff)\n",
    "\n",
    "    return nn_dist_same, nn_index_same, nn_dist_diff, nn_index_diff"
   ]
  },
  {
   "cell_type": "markdown",
   "id": "d8c983f2",
   "metadata": {},
   "source": [
    "I noticed this massively hindered performance as the distances to every other sample were being recalculated every single time, giving $O(n^2)$. I then opted to improve this by using a matrix data structure to store the distances, so that they only need to be computed once, and can be accessed multiple times. This improved running time significantly. Below I will demonstrate an experiment using the old implementation of the `calculateConformityScores` method, and compare it to the new one."
   ]
  },
  {
   "cell_type": "code",
   "execution_count": 24,
   "id": "fdca33af",
   "metadata": {},
   "outputs": [],
   "source": [
    "def calculateConformityScoresOld(sample_X, sample_y, X_training_set, y_training_set):\n",
    "    X_aug = np.concatenate((sample_X.reshape(1, -1), X_training_set), axis=0)\n",
    "    y_aug = np.concatenate(([sample_y], y_training_set)) # additional sample will be the FIRST in augmented set\n",
    "\n",
    "    scores = np.zeros(len(y_aug))\n",
    "\n",
    "    for i in range(0, len(y_aug)):\n",
    "        X_new = np.delete(X_aug, i, axis=0)\n",
    "        y_new = np.delete(y_aug, i)\n",
    "        nn_dist_same, _, nn_dist_diff, _ = calculateNNsOld(X_aug[i], y_aug[i], X_new, y_new)\n",
    "        conformity_score = 0\n",
    "        if nn_dist_same == 0:\n",
    "            if nn_dist_diff == 0:\n",
    "                conformity_score = 0\n",
    "            else:\n",
    "                conformity_score = np.inf\n",
    "        else:\n",
    "            conformity_score =  nn_dist_diff / nn_dist_same\n",
    "\n",
    "        scores[i] = conformity_score"
   ]
  },
  {
   "cell_type": "code",
   "execution_count": 73,
   "id": "1372421b",
   "metadata": {},
   "outputs": [
    {
     "data": {
      "image/png": "[encoded data removed]",
      "text/plain": [
       "<Figure size 640x480 with 1 Axes>"
      ]
     },
     "metadata": {},
     "output_type": "display_data"
    },
    {
     "name": "stdout",
     "output_type": "stream",
     "text": [
      "Old implementation completed in average: 0.4352774349125949 seconds\n",
      "New implementation completed in average: 0.23380681601437656 seconds\n",
      "\n",
      "Increase in efficiency of new implementation: 53.71%\n"
     ]
    }
   ],
   "source": [
    "old_times_ion = np.zeros(len(ion_X_test))\n",
    "for i in range(0, len(ion_X_test)):\n",
    "    start_old = time.time()\n",
    "    calculateConformityScoresOld(ion_X_test[i], ion_y_test[i],ion_X_train, ion_y_train)\n",
    "    o = time.time() - start_old\n",
    "    old_times_ion[i] = o\n",
    "\n",
    "new_times_ion = np.zeros(len(ion_X_test))\n",
    "for j in range(0,len(ion_X_test)):\n",
    "    start_new = time.time()\n",
    "    calculateConformityScores(ion_X_test[0], ion_y_test[0], ion_X_train, ion_y_train)\n",
    "    n = time.time() - start_new\n",
    "    new_times_ion[j] = n\n",
    "\n",
    "x = np.arange(1, len(ion_X_test) + 1) \n",
    "plt.plot(x, old_times, label=\"Old\")\n",
    "plt.plot(x, new_times, label=\"New\")\n",
    "plt.xlabel(\"Sample Number\")\n",
    "plt.ylabel(\"Running time (seconds)\")\n",
    "plt.legend()\n",
    "plt.show()\n",
    "\n",
    "print(\"Old implementation completed in average:\", np.mean(old_times_ion), \"seconds\")\n",
    "print(\"New implementation completed in average:\", np.mean(new_times_ion), \"seconds\")\n",
    "\n",
    "print(\"\\nIncrease in efficiency of new implementation: {:.2f}%\".format((np.mean(new_times_ion)/np.mean(old_times_ion)) * 100))\n"
   ]
  },
  {
   "cell_type": "markdown",
   "id": "5a06ca2e",
   "metadata": {},
   "source": [
    "## Calculating the Score of the Model on the Iris Dataset"
   ]
  },
  {
   "cell_type": "code",
   "execution_count": 19,
   "id": "97273d7b",
   "metadata": {},
   "outputs": [
    {
     "name": "stdout",
     "output_type": "stream",
     "text": [
      "Model Score: 0.9736842105263158 \n",
      "Error Rate:  2.63%\n"
     ]
    }
   ],
   "source": [
    "iris_predictions = np.zeros(len(iris_X_test))\n",
    "for i in range(0, len(iris_X_test)):\n",
    "    iris_predictions[i] = predict(iris_label_space, iris_X_test[i], iris_X_train, iris_y_train)\n",
    "\n",
    "s = score(iris_predictions, iris_y_test)\n",
    "\n",
    "print(\"Model Score:\", s,\"\\nError Rate:  {:.2f}%\".format((1 - s) * 100))"
   ]
  },
  {
   "cell_type": "markdown",
   "id": "956c306b",
   "metadata": {},
   "source": [
    "## Calculating the Score of the Model on the Ionosphere Dataset"
   ]
  },
  {
   "cell_type": "code",
   "execution_count": 20,
   "id": "8ebcb102",
   "metadata": {},
   "outputs": [
    {
     "name": "stdout",
     "output_type": "stream",
     "text": [
      "Model Score: 0.6136363636363636 \n",
      "Error Rate:  38.64%\n"
     ]
    }
   ],
   "source": [
    "ion_predictions = np.zeros(len(ion_X_test))\n",
    "for j in range(0, len(ion_X_test)):\n",
    "    ion_predictions[j] = predict(ion_label_space, ion_X_test[i], ion_X_train, ion_y_train)\n",
    "\n",
    "s = score(ion_predictions, ion_y_test)\n",
    "\n",
    "print(\"Model Score:\", s,\"\\nError Rate:  {:.2f}%\".format((1 - s) * 100))"
   ]
  },
  {
   "cell_type": "markdown",
   "id": "804bbd1f",
   "metadata": {},
   "source": [
    "## Error Rates vs Sample Size\n",
    "\n",
    "Here I will perform some experiments to determine how the sample size affects the error rate of the model."
   ]
  },
  {
   "cell_type": "code",
   "execution_count": null,
   "id": "4f157b49",
   "metadata": {},
   "outputs": [
    {
     "name": "stdout",
     "output_type": "stream",
     "text": [
      "Iris complete\n"
     ]
    },
    {
     "ename": "ValueError",
     "evalue": "x and y must have same first dimension, but have shapes (8,) and (0,)",
     "output_type": "error",
     "traceback": [
      "\u001b[0;31m---------------------------------------------------------------------------\u001b[0m",
      "\u001b[0;31mValueError\u001b[0m                                Traceback (most recent call last)",
      "Cell \u001b[0;32mIn [80], line 33\u001b[0m\n\u001b[1;32m     31\u001b[0m plt\u001b[38;5;241m.\u001b[39mfigure(figsize\u001b[38;5;241m=\u001b[39m(\u001b[38;5;241m10\u001b[39m, \u001b[38;5;241m6\u001b[39m))\n\u001b[1;32m     32\u001b[0m plt\u001b[38;5;241m.\u001b[39mplot(iris_sizes, iris_error_rates, label\u001b[38;5;241m=\u001b[39m\u001b[38;5;124m\"\u001b[39m\u001b[38;5;124mIris Dataset\u001b[39m\u001b[38;5;124m\"\u001b[39m, marker\u001b[38;5;241m=\u001b[39m\u001b[38;5;124m\"\u001b[39m\u001b[38;5;124mo\u001b[39m\u001b[38;5;124m\"\u001b[39m)\n\u001b[0;32m---> 33\u001b[0m \u001b[43mplt\u001b[49m\u001b[38;5;241;43m.\u001b[39;49m\u001b[43mplot\u001b[49m\u001b[43m(\u001b[49m\u001b[43mion_sizes\u001b[49m\u001b[43m,\u001b[49m\u001b[43m \u001b[49m\u001b[43mion_error_rates\u001b[49m\u001b[43m,\u001b[49m\u001b[43m \u001b[49m\u001b[43mlabel\u001b[49m\u001b[38;5;241;43m=\u001b[39;49m\u001b[38;5;124;43m\"\u001b[39;49m\u001b[38;5;124;43mIonosphere Dataset\u001b[39;49m\u001b[38;5;124;43m\"\u001b[39;49m\u001b[43m,\u001b[49m\u001b[43m \u001b[49m\u001b[43mmarker\u001b[49m\u001b[38;5;241;43m=\u001b[39;49m\u001b[38;5;124;43m\"\u001b[39;49m\u001b[38;5;124;43ms\u001b[39;49m\u001b[38;5;124;43m\"\u001b[39;49m\u001b[43m)\u001b[49m\n\u001b[1;32m     34\u001b[0m plt\u001b[38;5;241m.\u001b[39mxlabel(\u001b[38;5;124m\"\u001b[39m\u001b[38;5;124mSample Size\u001b[39m\u001b[38;5;124m\"\u001b[39m)\n\u001b[1;32m     35\u001b[0m plt\u001b[38;5;241m.\u001b[39mylabel(\u001b[38;5;124m\"\u001b[39m\u001b[38;5;124mError Rate\u001b[39m\u001b[38;5;124m\"\u001b[39m)\n",
      "File \u001b[0;32m/usr/lib/python3/dist-packages/matplotlib/pyplot.py:2748\u001b[0m, in \u001b[0;36mplot\u001b[0;34m(scalex, scaley, data, *args, **kwargs)\u001b[0m\n\u001b[1;32m   2746\u001b[0m \u001b[38;5;129m@_copy_docstring_and_deprecators\u001b[39m(Axes\u001b[38;5;241m.\u001b[39mplot)\n\u001b[1;32m   2747\u001b[0m \u001b[38;5;28;01mdef\u001b[39;00m \u001b[38;5;21mplot\u001b[39m(\u001b[38;5;241m*\u001b[39margs, scalex\u001b[38;5;241m=\u001b[39m\u001b[38;5;28;01mTrue\u001b[39;00m, scaley\u001b[38;5;241m=\u001b[39m\u001b[38;5;28;01mTrue\u001b[39;00m, data\u001b[38;5;241m=\u001b[39m\u001b[38;5;28;01mNone\u001b[39;00m, \u001b[38;5;241m*\u001b[39m\u001b[38;5;241m*\u001b[39mkwargs):\n\u001b[0;32m-> 2748\u001b[0m     \u001b[38;5;28;01mreturn\u001b[39;00m \u001b[43mgca\u001b[49m\u001b[43m(\u001b[49m\u001b[43m)\u001b[49m\u001b[38;5;241;43m.\u001b[39;49m\u001b[43mplot\u001b[49m\u001b[43m(\u001b[49m\n\u001b[1;32m   2749\u001b[0m \u001b[43m        \u001b[49m\u001b[38;5;241;43m*\u001b[39;49m\u001b[43margs\u001b[49m\u001b[43m,\u001b[49m\u001b[43m \u001b[49m\u001b[43mscalex\u001b[49m\u001b[38;5;241;43m=\u001b[39;49m\u001b[43mscalex\u001b[49m\u001b[43m,\u001b[49m\u001b[43m \u001b[49m\u001b[43mscaley\u001b[49m\u001b[38;5;241;43m=\u001b[39;49m\u001b[43mscaley\u001b[49m\u001b[43m,\u001b[49m\n\u001b[1;32m   2750\u001b[0m \u001b[43m        \u001b[49m\u001b[38;5;241;43m*\u001b[39;49m\u001b[38;5;241;43m*\u001b[39;49m\u001b[43m(\u001b[49m\u001b[43m{\u001b[49m\u001b[38;5;124;43m\"\u001b[39;49m\u001b[38;5;124;43mdata\u001b[39;49m\u001b[38;5;124;43m\"\u001b[39;49m\u001b[43m:\u001b[49m\u001b[43m \u001b[49m\u001b[43mdata\u001b[49m\u001b[43m}\u001b[49m\u001b[43m \u001b[49m\u001b[38;5;28;43;01mif\u001b[39;49;00m\u001b[43m \u001b[49m\u001b[43mdata\u001b[49m\u001b[43m \u001b[49m\u001b[38;5;129;43;01mis\u001b[39;49;00m\u001b[43m \u001b[49m\u001b[38;5;129;43;01mnot\u001b[39;49;00m\u001b[43m \u001b[49m\u001b[38;5;28;43;01mNone\u001b[39;49;00m\u001b[43m \u001b[49m\u001b[38;5;28;43;01melse\u001b[39;49;00m\u001b[43m \u001b[49m\u001b[43m{\u001b[49m\u001b[43m}\u001b[49m\u001b[43m)\u001b[49m\u001b[43m,\u001b[49m\u001b[43m \u001b[49m\u001b[38;5;241;43m*\u001b[39;49m\u001b[38;5;241;43m*\u001b[39;49m\u001b[43mkwargs\u001b[49m\u001b[43m)\u001b[49m\n",
      "File \u001b[0;32m/usr/lib/python3/dist-packages/matplotlib/axes/_axes.py:1668\u001b[0m, in \u001b[0;36mAxes.plot\u001b[0;34m(self, scalex, scaley, data, *args, **kwargs)\u001b[0m\n\u001b[1;32m   1425\u001b[0m \u001b[38;5;250m\u001b[39m\u001b[38;5;124;03m\"\"\"\u001b[39;00m\n\u001b[1;32m   1426\u001b[0m \u001b[38;5;124;03mPlot y versus x as lines and/or markers.\u001b[39;00m\n\u001b[1;32m   1427\u001b[0m \n\u001b[0;32m   (...)\u001b[0m\n\u001b[1;32m   1665\u001b[0m \u001b[38;5;124;03m(``'green'``) or hex strings (``'#008000'``).\u001b[39;00m\n\u001b[1;32m   1666\u001b[0m \u001b[38;5;124;03m\"\"\"\u001b[39;00m\n\u001b[1;32m   1667\u001b[0m kwargs \u001b[38;5;241m=\u001b[39m cbook\u001b[38;5;241m.\u001b[39mnormalize_kwargs(kwargs, mlines\u001b[38;5;241m.\u001b[39mLine2D)\n\u001b[0;32m-> 1668\u001b[0m lines \u001b[38;5;241m=\u001b[39m [\u001b[38;5;241m*\u001b[39m\u001b[38;5;28mself\u001b[39m\u001b[38;5;241m.\u001b[39m_get_lines(\u001b[38;5;241m*\u001b[39margs, data\u001b[38;5;241m=\u001b[39mdata, \u001b[38;5;241m*\u001b[39m\u001b[38;5;241m*\u001b[39mkwargs)]\n\u001b[1;32m   1669\u001b[0m \u001b[38;5;28;01mfor\u001b[39;00m line \u001b[38;5;129;01min\u001b[39;00m lines:\n\u001b[1;32m   1670\u001b[0m     \u001b[38;5;28mself\u001b[39m\u001b[38;5;241m.\u001b[39madd_line(line)\n",
      "File \u001b[0;32m/usr/lib/python3/dist-packages/matplotlib/axes/_base.py:311\u001b[0m, in \u001b[0;36m_process_plot_var_args.__call__\u001b[0;34m(self, data, *args, **kwargs)\u001b[0m\n\u001b[1;32m    309\u001b[0m     this \u001b[38;5;241m+\u001b[39m\u001b[38;5;241m=\u001b[39m args[\u001b[38;5;241m0\u001b[39m],\n\u001b[1;32m    310\u001b[0m     args \u001b[38;5;241m=\u001b[39m args[\u001b[38;5;241m1\u001b[39m:]\n\u001b[0;32m--> 311\u001b[0m \u001b[38;5;28;01myield from\u001b[39;00m \u001b[38;5;28;43mself\u001b[39;49m\u001b[38;5;241;43m.\u001b[39;49m\u001b[43m_plot_args\u001b[49m\u001b[43m(\u001b[49m\n\u001b[1;32m    312\u001b[0m \u001b[43m    \u001b[49m\u001b[43mthis\u001b[49m\u001b[43m,\u001b[49m\u001b[43m \u001b[49m\u001b[43mkwargs\u001b[49m\u001b[43m,\u001b[49m\u001b[43m \u001b[49m\u001b[43mambiguous_fmt_datakey\u001b[49m\u001b[38;5;241;43m=\u001b[39;49m\u001b[43mambiguous_fmt_datakey\u001b[49m\u001b[43m)\u001b[49m\n",
      "File \u001b[0;32m/usr/lib/python3/dist-packages/matplotlib/axes/_base.py:504\u001b[0m, in \u001b[0;36m_process_plot_var_args._plot_args\u001b[0;34m(self, tup, kwargs, return_kwargs, ambiguous_fmt_datakey)\u001b[0m\n\u001b[1;32m    501\u001b[0m     \u001b[38;5;28mself\u001b[39m\u001b[38;5;241m.\u001b[39maxes\u001b[38;5;241m.\u001b[39myaxis\u001b[38;5;241m.\u001b[39mupdate_units(y)\n\u001b[1;32m    503\u001b[0m \u001b[38;5;28;01mif\u001b[39;00m x\u001b[38;5;241m.\u001b[39mshape[\u001b[38;5;241m0\u001b[39m] \u001b[38;5;241m!=\u001b[39m y\u001b[38;5;241m.\u001b[39mshape[\u001b[38;5;241m0\u001b[39m]:\n\u001b[0;32m--> 504\u001b[0m     \u001b[38;5;28;01mraise\u001b[39;00m \u001b[38;5;167;01mValueError\u001b[39;00m(\u001b[38;5;124mf\u001b[39m\u001b[38;5;124m\"\u001b[39m\u001b[38;5;124mx and y must have same first dimension, but \u001b[39m\u001b[38;5;124m\"\u001b[39m\n\u001b[1;32m    505\u001b[0m                      \u001b[38;5;124mf\u001b[39m\u001b[38;5;124m\"\u001b[39m\u001b[38;5;124mhave shapes \u001b[39m\u001b[38;5;132;01m{\u001b[39;00mx\u001b[38;5;241m.\u001b[39mshape\u001b[38;5;132;01m}\u001b[39;00m\u001b[38;5;124m and \u001b[39m\u001b[38;5;132;01m{\u001b[39;00my\u001b[38;5;241m.\u001b[39mshape\u001b[38;5;132;01m}\u001b[39;00m\u001b[38;5;124m\"\u001b[39m)\n\u001b[1;32m    506\u001b[0m \u001b[38;5;28;01mif\u001b[39;00m x\u001b[38;5;241m.\u001b[39mndim \u001b[38;5;241m>\u001b[39m \u001b[38;5;241m2\u001b[39m \u001b[38;5;129;01mor\u001b[39;00m y\u001b[38;5;241m.\u001b[39mndim \u001b[38;5;241m>\u001b[39m \u001b[38;5;241m2\u001b[39m:\n\u001b[1;32m    507\u001b[0m     \u001b[38;5;28;01mraise\u001b[39;00m \u001b[38;5;167;01mValueError\u001b[39;00m(\u001b[38;5;124mf\u001b[39m\u001b[38;5;124m\"\u001b[39m\u001b[38;5;124mx and y can be no greater than 2D, but have \u001b[39m\u001b[38;5;124m\"\u001b[39m\n\u001b[1;32m    508\u001b[0m                      \u001b[38;5;124mf\u001b[39m\u001b[38;5;124m\"\u001b[39m\u001b[38;5;124mshapes \u001b[39m\u001b[38;5;132;01m{\u001b[39;00mx\u001b[38;5;241m.\u001b[39mshape\u001b[38;5;132;01m}\u001b[39;00m\u001b[38;5;124m and \u001b[39m\u001b[38;5;132;01m{\u001b[39;00my\u001b[38;5;241m.\u001b[39mshape\u001b[38;5;132;01m}\u001b[39;00m\u001b[38;5;124m\"\u001b[39m)\n",
      "\u001b[0;31mValueError\u001b[0m: x and y must have same first dimension, but have shapes (8,) and (0,)"
     ]
    },
    {
     "data": {
      "image/png": "[encoded data removed]",
      "text/plain": [
       "<Figure size 1000x600 with 1 Axes>"
      ]
     },
     "metadata": {},
     "output_type": "display_data"
    }
   ],
   "source": [
    "iris_sizes = np.arange(1, len(iris_X_test) + 1)\n",
    "ion_sizes = np.arange(10, len(ion_X_test) + 1, 10)\n",
    "\n",
    "iris_error_rates = []\n",
    "ion_error_rates = []\n",
    "\n",
    "# For Iris\n",
    "for size in iris_sizes:\n",
    "    x_test = iris_X_test[:size]\n",
    "    y_test = iris_y_test[:size]\n",
    "    iris_predictions = np.zeros(size)\n",
    "    for i in range(0,size):\n",
    "        iris_predictions[i] = predict(iris_label_space, x_test[i], iris_X_train, iris_y_train)\n",
    "\n",
    "    error = 1 - score(iris_predictions, y_test)\n",
    "    iris_error_rates.append(error)\n",
    "print(\"Iris complete\")\n",
    "\n",
    "\"\"\"\n",
    "# For Ionosphere\n",
    "for size in ion_sizes:\n",
    "    x_test = ion_X_test[:size]\n",
    "    y_test = ion_y_test[:size]\n",
    "    ion_predictions = np.zeros(size)\n",
    "    for j in range(0, size):\n",
    "        ion_predictions[j] = predict(ion_label_space, x_test[j], ion_X_train, ion_y_train)\n",
    "\n",
    "    error = 1 - score(ion_predictions, y_test)\n",
    "    ion_error_rates.append(error)\n",
    "\"\"\"\n",
    "plt.figure(figsize=(10, 6))\n",
    "plt.plot(iris_sizes, iris_error_rates, label=\"Iris Dataset\")\n",
    "plt.plot(ion_sizes, ion_error_rates, label=\"Ionosphere Dataset\", marker=\"s\")\n",
    "plt.xlabel(\"Sample Size\")\n",
    "plt.ylabel(\"Error Rate\")\n",
    "plt.title(\"Sample Size vs Error Rate for Iris and Ionosphere Datasets\")\n",
    "plt.legend()\n",
    "plt.grid(True)\n",
    "plt.tight_layout()\n",
    "plt.show()"
   ]
  },
  {
   "cell_type": "markdown",
   "id": "06597772",
   "metadata": {},
   "source": [
    "## Calculating the Average False P-Values\n",
    "\n",
    "Before calculating the average false p-values for both datasets, I will first lay out the function I am going to use to do this. The function takes in the $X$ and $y$ training sets, as well as the label space $Y$ and the true label for the sample. The function works on a sample-by-sample basis, so for each sample it calculates the average false p-values. It does this by checking if the label we are currently calculating a p-value for is the *true* label. If so, we can skip it. If not, we calculate the conformity scores, the p_value, and add it to the list of p-values. From this, we simply calculate the average using `np.mean`."
   ]
  },
  {
   "cell_type": "code",
   "execution_count": null,
   "id": "8a7bb457",
   "metadata": {},
   "outputs": [],
   "source": [
    "def calculateAverageFalsePValues(Y, sample_X, X_training_set, y_training_set, true_y):\n",
    "    Y_size = len(Y)\n",
    "    false_p_values = []\n",
    "    \n",
    "    for i in range (0, Y_size):\n",
    "        label = Y[i]\n",
    "        if label != true_y:\n",
    "            scores = calculateConformityScores(sample_X, label, X_training_set, y_training_set)\n",
    "            p_value = calculatePValue(scores)\n",
    "            false_p_values.append(p_value)\n",
    "\n",
    "    return np.mean(false_p_values)"
   ]
  },
  {
   "cell_type": "markdown",
   "id": "7a55c040",
   "metadata": {},
   "source": [
    "We can now apply this function to the Iris dataset."
   ]
  },
  {
   "cell_type": "code",
   "execution_count": 11,
   "id": "313914da",
   "metadata": {},
   "outputs": [
    {
     "name": "stdout",
     "output_type": "stream",
     "text": [
      "Total average false p-value: 0.011178388448998605\n"
     ]
    }
   ],
   "source": [
    "total_false_p_values = np.zeros(len(iris_X_test))\n",
    "for i in range(0,len(iris_X_test)):\n",
    "    total_false_p_values[i] = calculateAverageFalsePValues(iris_label_space, iris_X_test[i], iris_X_train, iris_y_train, iris_y_test[i])\n",
    "\n",
    "print(\"Total average false p-value:\", np.mean(total_false_p_values))"
   ]
  },
  {
   "cell_type": "markdown",
   "id": "4ba780be",
   "metadata": {},
   "source": [
    "And now the same for the Ionosphere dataset."
   ]
  },
  {
   "cell_type": "code",
   "execution_count": 12,
   "id": "683fda15",
   "metadata": {},
   "outputs": [
    {
     "name": "stdout",
     "output_type": "stream",
     "text": [
      "Total average false p-value: 0.0625\n"
     ]
    }
   ],
   "source": [
    "total_false_p_values = np.zeros(len(ion_X_test))\n",
    "for i in range(0,len(ion_X_test)):\n",
    "    total_false_p_values[i] = calculateAverageFalsePValues(ion_label_space, ion_X_test[i], ion_X_train, ion_y_train, ion_y_test[i])\n",
    "\n",
    "print(\"Total average false p-value:\", np.mean(total_false_p_values))"
   ]
  }
 ],
 "metadata": {
  "kernelspec": {
   "display_name": "Python 3",
   "language": "python",
   "name": "python3"
  },
  "language_info": {
   "codemirror_mode": {
    "name": "ipython",
    "version": 3
   },
   "file_extension": ".py",
   "mimetype": "text/x-python",
   "name": "python",
   "nbconvert_exporter": "python",
   "pygments_lexer": "ipython3",
   "version": "3.11.2"
  }
 },
 "nbformat": 4,
 "nbformat_minor": 5
}
