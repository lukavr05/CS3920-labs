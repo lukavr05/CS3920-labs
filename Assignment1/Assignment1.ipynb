{
 "cells": [
  {
   "cell_type": "markdown",
   "id": "4a7ed110",
   "metadata": {},
   "source": [
    "# Assignment 1"
   ]
  },
  {
   "cell_type": "code",
   "execution_count": null,
   "id": "61178e00",
   "metadata": {},
   "outputs": [],
   "source": [
    "import numpy as np\n",
    "import time\n",
    "from sklearn.datasets import load_iris\n",
    "from sklearn.model_selection import train_test_split\n",
    "\n",
    "iris = load_iris()\n",
    "ion_X = np.genfromtxt(\"ionosphere.txt\", delimiter=\",\", usecols=np.arange(34))\n",
    "ion_y = np.genfromtxt(\"ionosphere.txt\", delimiter=\",\", usecols=34, dtype=\"int\")\n",
    "\n",
    "iris_X_train, iris_X_test, iris_y_train, iris_y_test = train_test_split(iris['data'], iris['target'], random_state=2408)\n",
    "ion_X_train, ion_X_test, ion_y_train, ion_y_test = train_test_split(ion_X, ion_y, random_state=2408)\n",
    "\n",
    "\n",
    "def computeEuclideanNorm(vector: np.ndarray) -> float:\n",
    "    \"\"\"Computes the Euclidean norm of a vector by adding the squares of each value and square rooting\"\"\"\n",
    "\n",
    "    sum = 0\n",
    "    for i in range(0,vector.size):\n",
    "        sum += np.power(vector[i], 2)\n",
    "    \n",
    "    return np.sqrt(sum)\n",
    "\n",
    "def computeMinimum(a: np.ndarray):\n",
    "    \"\"\"Calculates the minimum value of an array\"\"\"\n",
    "\n",
    "    current_min = np.inf\n",
    "    min_index = np.inf\n",
    "    for n in range(a.size):\n",
    "        if current_min > a[n]:\n",
    "            current_min = a[n]\n",
    "            min_index = n\n",
    "    \n",
    "    return current_min, min_index\n",
    "\n",
    "def calculateEuclideanDistance(v1: np.ndarray, v2: np.ndarray) -> float: \n",
    "    \"\"\"Calculates the Euclidean distance between two points by computing the Euclidean norm of the vector distance\"\"\"\n",
    "    diff = np.subtract(v1, v2)\n",
    "    return (computeEuclideanNorm(diff))\n",
    "\n",
    "def computeDistances(sample: np.ndarray, training_set: np.ndarray) -> np.ndarray:\n",
    "    \"\"\"Calculates the distances from the given sample to all other points\"\"\"    \n",
    "    result = np.zeros(len(training_set))\n",
    "    for i in range(0, len(training_set)):\n",
    "        result[i] = calculateEuclideanDistance(sample, training_set[i])\n",
    "\n",
    "    return result\n",
    "\n",
    "test1 = np.array([[1,2], [0,1], [0,3]])\n",
    "test2 = np.array([0,0,0,0])\n",
    "\n",
    "print(iris_X_train)\n",
    "start = time.time()\n",
    "print(computeDistances(test2, iris_X_train))\n",
    "print(\"\\nCompleted in\", time.time() - start, \"seconds\")"
   ]
  }
 ],
 "metadata": {
  "kernelspec": {
   "display_name": "Python 3",
   "language": "python",
   "name": "python3"
  },
  "language_info": {
   "codemirror_mode": {
    "name": "ipython",
    "version": 3
   },
   "file_extension": ".py",
   "mimetype": "text/x-python",
   "name": "python",
   "nbconvert_exporter": "python",
   "pygments_lexer": "ipython3",
   "version": "3.11.2"
  }
 },
 "nbformat": 4,
 "nbformat_minor": 5
}
