{
 "cells": [
  {
   "cell_type": "markdown",
   "id": "4a7ed110",
   "metadata": {},
   "source": [
    "# Assignment 1"
   ]
  },
  {
   "cell_type": "code",
   "execution_count": null,
   "id": "61178e00",
   "metadata": {},
   "outputs": [],
   "source": [
    "import numpy as np\n",
    "import matplotlib.pyplot as plt\n",
    "import time\n",
    "from sklearn.datasets import load_iris\n",
    "from sklearn.model_selection import train_test_split\n",
    "\n",
    "iris = load_iris()\n",
    "iris_label_space = np.array([0,1,2])\n",
    "\n",
    "ion_X = np.genfromtxt(\"ionosphere.txt\", delimiter=\",\", usecols=np.arange(34))\n",
    "ion_y = np.genfromtxt(\"ionosphere.txt\", delimiter=\",\", usecols=34, dtype=\"int\")\n",
    "ion_label_space = np.array([1,-1])\n",
    "\n",
    "iris_X_train, iris_X_test, iris_y_train, iris_y_test = train_test_split(iris['data'], iris['target'], random_state=2408)\n",
    "ion_X_train, ion_X_test, ion_y_train, ion_y_test = train_test_split(ion_X, ion_y, random_state=2408)\n",
    "\n",
    "\n",
    "def computeEuclideanNorm(vector: np.ndarray) -> float:\n",
    "    \"\"\"\n",
    "        Computes the Euclidean norm of a vector by adding the squares of each value and square rooting\n",
    "    \"\"\"\n",
    "\n",
    "    total = 0\n",
    "    for i in range(0,vector.size):\n",
    "        total += vector[i] * vector[i]\n",
    "    \n",
    "    return np.sqrt(total)\n",
    "\n",
    "\n",
    "def calculateEuclideanDistance(v1: np.ndarray, v2: np.ndarray) -> float: \n",
    "    \"\"\"\n",
    "        Calculates the Euclidean distance between two points by computing the Euclidean norm of the vector distance\n",
    "    \"\"\"\n",
    "    diff = np.subtract(v1, v2)\n",
    "    return (computeEuclideanNorm(diff))\n",
    "\n",
    "\n",
    "def computeDistances(sample: np.ndarray, training_set: np.ndarray) -> np.ndarray:\n",
    "    \"\"\"\n",
    "        Calculates the distances from the given sample to all other points\n",
    "    \"\"\"\n",
    "\n",
    "    result = np.zeros(len(training_set))\n",
    "    for i in range(0, len(training_set)):\n",
    "        result[i] = calculateEuclideanDistance(sample, training_set[i])\n",
    "\n",
    "    return result\n",
    "\n",
    "\n",
    "def computeMinimum(a: np.ndarray):\n",
    "    \"\"\"\n",
    "        Calculates the minimum value of an array and returns it, along with its index\n",
    "    \"\"\"\n",
    "\n",
    "    current_min = np.inf\n",
    "    min_index = np.inf\n",
    "    for n in range(a.size):\n",
    "        if current_min > a[n]:\n",
    "            current_min = a[n]\n",
    "            min_index = n\n",
    "    \n",
    "    return current_min, min_index\n",
    "\n",
    "\n",
    "def computeMaximum(a: np.ndarray):\n",
    "    \"\"\"\n",
    "        Calculates the maximum value of an array and returns it, along with its index\n",
    "    \"\"\"\n",
    "    current_max = -np.inf\n",
    "    max_index = -np.inf\n",
    "    for i in range(a.size):\n",
    "        if current_max < a[i]:\n",
    "            current_max = a[i]\n",
    "            max_index = i\n",
    "\n",
    "    return current_max, max_index\n",
    "\n",
    "\n",
    "def calculateNNs(index: int, sample_y: int, y_training_set: np.ndarray, distances: np.ndarray):\n",
    "    \"\"\"\n",
    "        Calculate the nearest numbers by taking in a matrix of distances\n",
    "    \"\"\"\n",
    "    nn_dist_same = np.inf\n",
    "    nn_index_same = -1\n",
    "    nn_dist_diff = np.inf\n",
    "    nn_index_diff = -1\n",
    "\n",
    "    for i in range(len(y_training_set)):\n",
    "        if i == index:\n",
    "            continue  # skip comparing sample to itself\n",
    "\n",
    "        dist = distances[index][i]\n",
    "\n",
    "        if y_training_set[i] == sample_y:\n",
    "            if dist < nn_dist_same:\n",
    "                nn_dist_same = dist\n",
    "                nn_index_same = i\n",
    "        else:\n",
    "            if dist < nn_dist_diff:\n",
    "                nn_dist_diff = dist\n",
    "                nn_index_diff = i\n",
    "\n",
    "    return nn_dist_same, nn_index_same, nn_dist_diff, nn_index_diff\n",
    "\n",
    "def calculateConformityScores(sample_X: np.ndarray, sample_y: np.ndarray, X_training_set, y_training_set):\n",
    "    \"\"\"\n",
    "        Calculates the conformity score of a sample, using the NN of the same class / NN of diffetebt class\n",
    "    \"\"\"\n",
    "    X_aug = np.concatenate((sample_X.reshape(1, -1), X_training_set), axis=0)\n",
    "    y_aug = np.concatenate(([sample_y], y_training_set)) # additional sample will be the FIRST in augmented set\n",
    "\n",
    "    n = len(X_aug)\n",
    "    scores = np.zeros(len(X_aug))\n",
    "\n",
    "    distances = np.zeros((n, n))\n",
    "    for i in range(0, n):\n",
    "        for j in range(i + 1, n):\n",
    "            dist = calculateEuclideanDistance(X_aug[i], X_aug[j])\n",
    "            distances[i][j] = dist\n",
    "            distances[j][i] = dist\n",
    "\n",
    "    for i in range(0, n):\n",
    "        nn_dist_same, _, nn_dist_diff, _ = calculateNNs(i, y_aug[i], y_aug, distances)\n",
    "        \n",
    "        if nn_dist_same == 0:\n",
    "            if nn_dist_diff == 0:\n",
    "                scores[i] = 0\n",
    "            else:\n",
    "                scores[i] = np.inf\n",
    "        else:\n",
    "            scores[i] =  nn_dist_diff / nn_dist_same\n",
    "\n",
    "    return scores\n",
    "\n",
    "\n",
    "def calculatePValue(scores):\n",
    "    \"\"\"\n",
    "        Calculate a given p-value given the conformity scores\n",
    "    \"\"\"\n",
    "    test_score = scores[0]\n",
    "    other_scores = scores[1:]\n",
    "\n",
    "    rank = 0\n",
    "    for score in other_scores:\n",
    "        if score <= test_score:\n",
    "            rank += 1\n",
    "\n",
    "    p_value = (rank + 1) / len(scores)\n",
    "    return p_value\n",
    "\n",
    "\n",
    "def predict(Y, sample_X, X_training_set, y_training_set):\n",
    "    \"\"\"\n",
    "        Makes a prediction by computing p-values of all possible labels and selecting the highest one, given the label space, \n",
    "    \"\"\"\n",
    "\n",
    "    Y_size = len(Y)\n",
    "    p_values = np.zeros(Y_size)\n",
    "    for i in range (0, Y_size):\n",
    "        label = Y[i]\n",
    "        scores = calculateConformityScores(sample_X, label, X_training_set, y_training_set)\n",
    "        p_values[i] = calculatePValue(scores)\n",
    "\n",
    "    _, p = computeMaximum(p_values)\n",
    "\n",
    "    return Y[p]\n",
    "\n",
    "\n",
    "def score(predictions, y_test_set):\n",
    "    \"\"\"\n",
    "        Score the prediction set against the set of actual labels\n",
    "    \"\"\"\n",
    "    return np.mean(predictions == y_test_set)\n"
   ]
  },
  {
   "cell_type": "code",
   "execution_count": null,
   "id": "97273d7b",
   "metadata": {},
   "outputs": [
    {
     "name": "stdout",
     "output_type": "stream",
     "text": [
      "Score: 0.9736842105263158\n",
      "\n",
      "Completed in 2.402384042739868 seconds\n"
     ]
    }
   ],
   "source": [
    "iris_predictions = np.zeros(len(iris_X_test))\n",
    "\n",
    "start = time.time()\n",
    "\n",
    "for i in range(0, len(iris_X_test)):\n",
    "    iris_predictions[i] = predict(iris_label_space, iris_X_test[i], iris_X_train, iris_y_train)\n",
    "\n",
    "print(\"Score:\", score(iris_predictions, iris_y_test))\n",
    "print(\"\\nCompleted in\", time.time() - start, \"seconds\")"
   ]
  },
  {
   "cell_type": "code",
   "execution_count": 5,
   "id": "8ebcb102",
   "metadata": {},
   "outputs": [
    {
     "name": "stdout",
     "output_type": "stream",
     "text": [
      "Score: 0.6136363636363636\n",
      "\n",
      "Completed in 55.75108337402344 seconds\n"
     ]
    }
   ],
   "source": [
    "ion_predictions = np.zeros(len(ion_X_test))\n",
    "\n",
    "start = time.time()\n",
    "\n",
    "for j in range(0, len(ion_X_test)):\n",
    "    ion_predictions[j] = predict(ion_label_space, ion_X_test[i], ion_X_train, ion_y_train)\n",
    "\n",
    "print(\"Score:\", score(ion_predictions, ion_y_test))\n",
    "print(\"\\nCompleted in\", time.time() - start, \"seconds\")"
   ]
  },
  {
   "cell_type": "markdown",
   "id": "6bb2afed",
   "metadata": {},
   "source": [
    "## Sample Size vs. Error Rates\n",
    "\n",
    "Here we perform experiments to determine the relationship between the size of the sample and the rate of error of the models on the Iris and Ionosphere datasets\n",
    "\n",
    "### Iris Dataset"
   ]
  },
  {
   "cell_type": "code",
   "execution_count": 11,
   "id": "bedda876",
   "metadata": {},
   "outputs": [
    {
     "name": "stdout",
     "output_type": "stream",
     "text": [
      "Progress: 100.00%\n",
      "Completed in 46.036861181259155 seconds\n"
     ]
    },
    {
     "data": {
      "image/png": "[encoded data removed]",
      "text/plain": [
       "<Figure size 640x480 with 1 Axes>"
      ]
     },
     "metadata": {},
     "output_type": "display_data"
    }
   ],
   "source": [
    "sample_sizes = np.arange(1, len(iris_X_test) + 1)\n",
    "error_rates = np.zeros_like(sample_sizes, dtype=float)\n",
    "\n",
    "start = time.time()\n",
    "\n",
    "for i, size in enumerate(sample_sizes):\n",
    "    current_X_test = iris_X_test[:size]\n",
    "    current_y_test = iris_y_test[:size]\n",
    "    current_predictions = np.zeros(size)\n",
    "\n",
    "    for j in range(size):\n",
    "        current_predictions[j] = predict(iris_label_space, current_X_test[j], iris_X_train, iris_y_train)\n",
    "    \n",
    "    s = score(current_predictions, current_y_test)\n",
    "    error_rates[i] = 1 - s\n",
    "    print(\"Progress: {:.2f}%\".format(((i+1)/sample_sizes.size) * 100), end=\"\\r\")\n",
    "\n",
    "plt.plot(sample_sizes, error_rates)\n",
    "plt.xlabel('Sample Size')\n",
    "plt.ylabel('Error Rate')\n",
    "plt.grid(True)\n",
    "print(\"\\nCompleted in\", time.time() - start, \"seconds\")"
   ]
  },
  {
   "cell_type": "markdown",
   "id": "2cfc55aa",
   "metadata": {},
   "source": [
    "Here we can see that on very low sample sizes, there is little to no error. Then, at size 17, there is a huge spike of error, then tapering off to the final error error rate."
   ]
  },
  {
   "cell_type": "code",
   "execution_count": 12,
   "id": "fd6b3623",
   "metadata": {},
   "outputs": [
    {
     "name": "stdout",
     "output_type": "stream",
     "text": [
      "Progress: 100.00%\n",
      "Completed in 536.473602771759 seconds\n"
     ]
    },
    {
     "data": {
      "image/png": "[encoded data removed]",
      "text/plain": [
       "<Figure size 640x480 with 1 Axes>"
      ]
     },
     "metadata": {},
     "output_type": "display_data"
    }
   ],
   "source": [
    "sample_sizes = np.append(np.arange(5, len(ion_X_test), 5), len(ion_X_test))\n",
    "error_rates = np.zeros_like(sample_sizes, dtype=float)\n",
    "\n",
    "start = time.time()\n",
    "\n",
    "for i, size in enumerate(sample_sizes):\n",
    "    current_X_test = ion_X_test[:size]\n",
    "    current_y_test = ion_y_test[:size]\n",
    "    current_predictions = np.zeros(size)\n",
    "\n",
    "    for j in range(size):\n",
    "        current_predictions[j] = predict(ion_label_space, current_X_test[j], ion_X_train, ion_y_train)\n",
    "    \n",
    "    s = score(current_predictions, current_y_test)\n",
    "    error_rates[i] = 1 - s\n",
    "    print(\"Progress: {:.2f}%\".format(((i+1)/sample_sizes.size) * 100), end=\"\\r\")\n",
    "\n",
    "plt.plot(sample_sizes, error_rates)\n",
    "plt.xlabel('Sample Size')\n",
    "plt.ylabel('Error Rate')\n",
    "plt.grid(True)\n",
    "print(\"\\nCompleted in\", time.time() - start, \"seconds\")"
   ]
  }
 ],
 "metadata": {
  "kernelspec": {
   "display_name": "Python 3",
   "language": "python",
   "name": "python3"
  },
  "language_info": {
   "codemirror_mode": {
    "name": "ipython",
    "version": 3
   },
   "file_extension": ".py",
   "mimetype": "text/x-python",
   "name": "python",
   "nbconvert_exporter": "python",
   "pygments_lexer": "ipython3",
   "version": "3.12.10"
  }
 },
 "nbformat": 4,
 "nbformat_minor": 5
}
