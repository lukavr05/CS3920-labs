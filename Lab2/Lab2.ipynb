{
 "cells": [
  {
   "cell_type": "markdown",
   "id": "a437a8ad",
   "metadata": {},
   "source": [
    "# Lab 2\n",
    "\n",
    "## Splitting the Dataset\n",
    "\n",
    "In order to train and test a machine learning model, we need to split the `iris` dataset into training and testing. The function `train_test_split` extracts 75% of the rows in the data (with labels) as the training set, and the remaining 25% (with labels) as the testing set. The function also _shuffles_ the data, as if we were to extract the data in order, all the items in the testing set would have label 2. We also give the function a seed using the `random_state` parameter, to ensure we get the same result if we perform the function several times.\n",
    "\n",
    "The result is stored in the `X_train`,`X_test`, `y_train`,`y_test` NumPy arrays."
   ]
  },
  {
   "cell_type": "code",
   "execution_count": 1,
   "id": "644574d7",
   "metadata": {},
   "outputs": [],
   "source": [
    "from sklearn.datasets import load_iris\n",
    "from sklearn.model_selection import train_test_split\n",
    "\n",
    "iris = load_iris()\n",
    "X_train, X_test, y_train, y_test = train_test_split(iris['data'], iris['target'], random_state=0)"
   ]
  },
  {
   "cell_type": "markdown",
   "id": "0072d945",
   "metadata": {},
   "source": [
    "We use the `shape` method to shape the data into a format that can be more easily interpreted by `scikit`. We add the method to the X training and testing datasets"
   ]
  },
  {
   "cell_type": "code",
   "execution_count": 2,
   "id": "c65d1415",
   "metadata": {},
   "outputs": [
    {
     "data": {
      "text/plain": [
       "(112, 4)"
      ]
     },
     "execution_count": 2,
     "metadata": {},
     "output_type": "execute_result"
    }
   ],
   "source": [
    "X_train.shape"
   ]
  },
  {
   "cell_type": "code",
   "execution_count": 3,
   "id": "7a9b69ef",
   "metadata": {},
   "outputs": [
    {
     "data": {
      "text/plain": [
       "(38, 4)"
      ]
     },
     "execution_count": 3,
     "metadata": {},
     "output_type": "execute_result"
    }
   ],
   "source": [
    "X_test.shape"
   ]
  },
  {
   "cell_type": "code",
   "execution_count": 4,
   "id": "72ed75c3",
   "metadata": {},
   "outputs": [
    {
     "name": "stdout",
     "output_type": "stream",
     "text": [
      "(112, 4) (38, 4)\n"
     ]
    }
   ],
   "source": [
    "print(X_train.shape, X_test.shape)"
   ]
  },
  {
   "cell_type": "markdown",
   "id": "38700d98",
   "metadata": {},
   "source": [
    "## Building a Model\n",
    "\n",
    "We can use the K-nearest-neighbours algorithm in our model before we perform any predictions. We can create a `knn` object using the `KNeighborsClassifier`, which specifies the number of neighbours."
   ]
  },
  {
   "cell_type": "code",
   "execution_count": 5,
   "id": "7321b072",
   "metadata": {},
   "outputs": [],
   "source": [
    "from sklearn.neighbors import KNeighborsClassifier\n",
    "knn = KNeighborsClassifier(n_neighbors=1)"
   ]
  },
  {
   "cell_type": "markdown",
   "id": "84184093",
   "metadata": {},
   "source": [
    "This `knn` object encapsulates the algorithm to build the model from the training set, *as well as* the algorithm to make predictions on test samples.\n",
    "\n",
    "In the case of the `KNeighborsClassifier`, however, it just stores the training set (as we use a transductive algorithm)\n",
    "\n",
    "We then call the `fit` method, which takes in the training sets and builds a model from that, returning a `KNeighborsClassifier` object."
   ]
  },
  {
   "cell_type": "code",
   "execution_count": 6,
   "id": "bad61192",
   "metadata": {},
   "outputs": [
    {
     "data": {
      "text/html": [
       "<style>#sk-container-id-1 {color: black;background-color: white;}#sk-container-id-1 pre{padding: 0;}#sk-container-id-1 div.sk-toggleable {background-color: white;}#sk-container-id-1 label.sk-toggleable__label {cursor: pointer;display: block;width: 100%;margin-bottom: 0;padding: 0.3em;box-sizing: border-box;text-align: center;}#sk-container-id-1 label.sk-toggleable__label-arrow:before {content: \"▸\";float: left;margin-right: 0.25em;color: #696969;}#sk-container-id-1 label.sk-toggleable__label-arrow:hover:before {color: black;}#sk-container-id-1 div.sk-estimator:hover label.sk-toggleable__label-arrow:before {color: black;}#sk-container-id-1 div.sk-toggleable__content {max-height: 0;max-width: 0;overflow: hidden;text-align: left;background-color: #f0f8ff;}#sk-container-id-1 div.sk-toggleable__content pre {margin: 0.2em;color: black;border-radius: 0.25em;background-color: #f0f8ff;}#sk-container-id-1 input.sk-toggleable__control:checked~div.sk-toggleable__content {max-height: 200px;max-width: 100%;overflow: auto;}#sk-container-id-1 input.sk-toggleable__control:checked~label.sk-toggleable__label-arrow:before {content: \"▾\";}#sk-container-id-1 div.sk-estimator input.sk-toggleable__control:checked~label.sk-toggleable__label {background-color: #d4ebff;}#sk-container-id-1 div.sk-label input.sk-toggleable__control:checked~label.sk-toggleable__label {background-color: #d4ebff;}#sk-container-id-1 input.sk-hidden--visually {border: 0;clip: rect(1px 1px 1px 1px);clip: rect(1px, 1px, 1px, 1px);height: 1px;margin: -1px;overflow: hidden;padding: 0;position: absolute;width: 1px;}#sk-container-id-1 div.sk-estimator {font-family: monospace;background-color: #f0f8ff;border: 1px dotted black;border-radius: 0.25em;box-sizing: border-box;margin-bottom: 0.5em;}#sk-container-id-1 div.sk-estimator:hover {background-color: #d4ebff;}#sk-container-id-1 div.sk-parallel-item::after {content: \"\";width: 100%;border-bottom: 1px solid gray;flex-grow: 1;}#sk-container-id-1 div.sk-label:hover label.sk-toggleable__label {background-color: #d4ebff;}#sk-container-id-1 div.sk-serial::before {content: \"\";position: absolute;border-left: 1px solid gray;box-sizing: border-box;top: 0;bottom: 0;left: 50%;z-index: 0;}#sk-container-id-1 div.sk-serial {display: flex;flex-direction: column;align-items: center;background-color: white;padding-right: 0.2em;padding-left: 0.2em;position: relative;}#sk-container-id-1 div.sk-item {position: relative;z-index: 1;}#sk-container-id-1 div.sk-parallel {display: flex;align-items: stretch;justify-content: center;background-color: white;position: relative;}#sk-container-id-1 div.sk-item::before, #sk-container-id-1 div.sk-parallel-item::before {content: \"\";position: absolute;border-left: 1px solid gray;box-sizing: border-box;top: 0;bottom: 0;left: 50%;z-index: -1;}#sk-container-id-1 div.sk-parallel-item {display: flex;flex-direction: column;z-index: 1;position: relative;background-color: white;}#sk-container-id-1 div.sk-parallel-item:first-child::after {align-self: flex-end;width: 50%;}#sk-container-id-1 div.sk-parallel-item:last-child::after {align-self: flex-start;width: 50%;}#sk-container-id-1 div.sk-parallel-item:only-child::after {width: 0;}#sk-container-id-1 div.sk-dashed-wrapped {border: 1px dashed gray;margin: 0 0.4em 0.5em 0.4em;box-sizing: border-box;padding-bottom: 0.4em;background-color: white;}#sk-container-id-1 div.sk-label label {font-family: monospace;font-weight: bold;display: inline-block;line-height: 1.2em;}#sk-container-id-1 div.sk-label-container {text-align: center;}#sk-container-id-1 div.sk-container {/* jupyter's `normalize.less` sets `[hidden] { display: none; }` but bootstrap.min.css set `[hidden] { display: none !important; }` so we also need the `!important` here to be able to override the default hidden behavior on the sphinx rendered scikit-learn.org. See: https://github.com/scikit-learn/scikit-learn/issues/21755 */display: inline-block !important;position: relative;}#sk-container-id-1 div.sk-text-repr-fallback {display: none;}</style><div id=\"sk-container-id-1\" class=\"sk-top-container\"><div class=\"sk-text-repr-fallback\"><pre>KNeighborsClassifier(n_neighbors=1)</pre><b>In a Jupyter environment, please rerun this cell to show the HTML representation or trust the notebook. <br />On GitHub, the HTML representation is unable to render, please try loading this page with nbviewer.org.</b></div><div class=\"sk-container\" hidden><div class=\"sk-item\"><div class=\"sk-estimator sk-toggleable\"><input class=\"sk-toggleable__control sk-hidden--visually\" id=\"sk-estimator-id-1\" type=\"checkbox\" checked><label for=\"sk-estimator-id-1\" class=\"sk-toggleable__label sk-toggleable__label-arrow\">KNeighborsClassifier</label><div class=\"sk-toggleable__content\"><pre>KNeighborsClassifier(n_neighbors=1)</pre></div></div></div></div></div>"
      ],
      "text/plain": [
       "KNeighborsClassifier(n_neighbors=1)"
      ]
     },
     "execution_count": 6,
     "metadata": {},
     "output_type": "execute_result"
    }
   ],
   "source": [
    "knn.fit(X_train, y_train)"
   ]
  },
  {
   "cell_type": "markdown",
   "id": "62a0bd05",
   "metadata": {},
   "source": [
    "## Making Predictions\n",
    "\n",
    "Here we begin to make predictions. We can create a sample as a NumPy array, representing an iris with `sepal_length` of 5cm, `sepal_width` of 2.9cm, `petal_length` of 1cm, and a `petal_width` of 0.2cm."
   ]
  },
  {
   "cell_type": "code",
   "execution_count": 7,
   "id": "105d0f30",
   "metadata": {},
   "outputs": [
    {
     "data": {
      "text/plain": [
       "(1, 4)"
      ]
     },
     "execution_count": 7,
     "metadata": {},
     "output_type": "execute_result"
    }
   ],
   "source": [
    "import numpy as np\n",
    "X_new = np.array([[5, 2.9, 1, 0.2]])\n",
    "X_new.shape"
   ]
  },
  {
   "cell_type": "markdown",
   "id": "a1fdd288",
   "metadata": {},
   "source": [
    "We use the `predict` method on the `knn` object to generate a prediction for the **class** of the new sample. At first, the model returns 0 as that is the array representation of the class `setosa`"
   ]
  },
  {
   "cell_type": "code",
   "execution_count": 8,
   "id": "6e638fa1",
   "metadata": {},
   "outputs": [
    {
     "name": "stdout",
     "output_type": "stream",
     "text": [
      "[0]\n"
     ]
    }
   ],
   "source": [
    "prediction = knn.predict(X_new)\n",
    "print(prediction)"
   ]
  },
  {
   "cell_type": "code",
   "execution_count": 9,
   "id": "d89e9dfe",
   "metadata": {},
   "outputs": [
    {
     "name": "stdout",
     "output_type": "stream",
     "text": [
      "['setosa']\n"
     ]
    }
   ],
   "source": [
    "print(iris['target_names'][prediction])"
   ]
  },
  {
   "cell_type": "markdown",
   "id": "fe953d91",
   "metadata": {},
   "source": [
    "## Evaluating a Model\n",
    "\n",
    "Here we make a prediction, and compare it against its **label** (the known species). We measure the accuracy of the model using the fraction of flowers for which the right species was predicted."
   ]
  },
  {
   "cell_type": "code",
   "execution_count": 10,
   "id": "a5adea58",
   "metadata": {},
   "outputs": [
    {
     "data": {
      "text/plain": [
       "0.9736842105263158"
      ]
     },
     "execution_count": 10,
     "metadata": {},
     "output_type": "execute_result"
    }
   ],
   "source": [
    "y_pred = knn.predict(X_test)\n",
    "np.mean(y_pred == y_test)"
   ]
  },
  {
   "cell_type": "code",
   "execution_count": 11,
   "id": "c4b58e0b",
   "metadata": {},
   "outputs": [
    {
     "data": {
      "text/plain": [
       "0.9736842105263158"
      ]
     },
     "execution_count": 11,
     "metadata": {},
     "output_type": "execute_result"
    }
   ],
   "source": [
    "knn.score(X_test, y_test)"
   ]
  },
  {
   "cell_type": "markdown",
   "id": "9a60b0ca",
   "metadata": {},
   "source": [
    "Altogether:"
   ]
  },
  {
   "cell_type": "code",
   "execution_count": 12,
   "id": "d96df3ee",
   "metadata": {},
   "outputs": [
    {
     "data": {
      "text/plain": [
       "0.9736842105263158"
      ]
     },
     "execution_count": 12,
     "metadata": {},
     "output_type": "execute_result"
    }
   ],
   "source": [
    "X_train, X_test, y_train, y_test = train_test_split(iris['data'], iris['target'], random_state=0)\n",
    "knn = KNeighborsClassifier(n_neighbors=1)\n",
    "knn.fit(X_train, y_train)\n",
    "knn.score(X_test, y_test)"
   ]
  },
  {
   "cell_type": "markdown",
   "id": "1fad87cb",
   "metadata": {},
   "source": [
    "This snippet encompasses the entire process for applying *any* machine learning algorithm. The `fit`, `predict` and `score` methods are commonly used for **supervised learning**."
   ]
  },
  {
   "cell_type": "markdown",
   "id": "e1cc2c6f",
   "metadata": {},
   "source": [
    "## Loading Data from a File"
   ]
  },
  {
   "cell_type": "code",
   "execution_count": 13,
   "id": "4b5fd8a7",
   "metadata": {},
   "outputs": [
    {
     "data": {
      "text/plain": [
       "array([[5.1, 3.5, 1.4, 0.2],\n",
       "       [4.9, 3. , 1.4, 0.2],\n",
       "       [4.7, 3.2, 1.3, 0.2]])"
      ]
     },
     "execution_count": 13,
     "metadata": {},
     "output_type": "execute_result"
    }
   ],
   "source": [
    "X = np.genfromtxt(\"iris_data.txt\")\n",
    "X[:3,]"
   ]
  },
  {
   "cell_type": "markdown",
   "id": "074d1a9e",
   "metadata": {},
   "source": [
    "# Exercises\n",
    "\n",
    "1. If we run `y_pred == y_test` we get:"
   ]
  },
  {
   "cell_type": "code",
   "execution_count": 14,
   "id": "f1d8a9b5",
   "metadata": {},
   "outputs": [
    {
     "data": {
      "text/plain": [
       "array([ True,  True,  True,  True,  True,  True,  True,  True,  True,\n",
       "        True,  True,  True,  True,  True,  True,  True,  True,  True,\n",
       "        True,  True,  True,  True,  True,  True,  True,  True,  True,\n",
       "        True,  True,  True,  True,  True,  True,  True,  True,  True,\n",
       "        True, False])"
      ]
     },
     "execution_count": 14,
     "metadata": {},
     "output_type": "execute_result"
    }
   ],
   "source": [
    "y_pred == y_test"
   ]
  },
  {
   "cell_type": "markdown",
   "id": "e964abd4",
   "metadata": {},
   "source": [
    "Which is an `array` of Boolean values. These represent the different cases where each value of the predicted `y` is equal to the test `y`. Of these, 37 are correct and 1 is incorrect. This gives us a score of $\\frac{37}{38}$, or $0.9736...$\n",
    "\n",
    "2. To check the error rate of the K-nearest neighbour as $K$ increases, we can create different modules, and store the results in an array, then plot the various error rates on a graph."
   ]
  },
  {
   "cell_type": "code",
   "execution_count": 18,
   "id": "d28e1d41",
   "metadata": {},
   "outputs": [
    {
     "data": {
      "text/plain": [
       "([<matplotlib.axis.XTick at 0x7f00adb42850>,\n",
       "  <matplotlib.axis.XTick at 0x7f00ada8afd0>,\n",
       "  <matplotlib.axis.XTick at 0x7f00adb318d0>,\n",
       "  <matplotlib.axis.XTick at 0x7f00a59a0f10>,\n",
       "  <matplotlib.axis.XTick at 0x7f00a59a33d0>,\n",
       "  <matplotlib.axis.XTick at 0x7f00a59a8cd0>,\n",
       "  <matplotlib.axis.XTick at 0x7f00a59ab090>,\n",
       "  <matplotlib.axis.XTick at 0x7f00a59b1390>,\n",
       "  <matplotlib.axis.XTick at 0x7f00a59b3710>,\n",
       "  <matplotlib.axis.XTick at 0x7f00a59b9a90>,\n",
       "  <matplotlib.axis.XTick at 0x7f00a59aa910>,\n",
       "  <matplotlib.axis.XTick at 0x7f00a59bc910>,\n",
       "  <matplotlib.axis.XTick at 0x7f00a59bebd0>,\n",
       "  <matplotlib.axis.XTick at 0x7f00a59c0f50>,\n",
       "  <matplotlib.axis.XTick at 0x7f00a59c3150>,\n",
       "  <matplotlib.axis.XTick at 0x7f00a59bc090>,\n",
       "  <matplotlib.axis.XTick at 0x7f00a59c9e50>,\n",
       "  <matplotlib.axis.XTick at 0x7f00a59d0150>,\n",
       "  <matplotlib.axis.XTick at 0x7f00a59d2490>],\n",
       " [Text(1, 0, '1'),\n",
       "  Text(2, 0, '2'),\n",
       "  Text(3, 0, '3'),\n",
       "  Text(4, 0, '4'),\n",
       "  Text(5, 0, '5'),\n",
       "  Text(6, 0, '6'),\n",
       "  Text(7, 0, '7'),\n",
       "  Text(8, 0, '8'),\n",
       "  Text(9, 0, '9'),\n",
       "  Text(10, 0, '10'),\n",
       "  Text(11, 0, '11'),\n",
       "  Text(12, 0, '12'),\n",
       "  Text(13, 0, '13'),\n",
       "  Text(14, 0, '14'),\n",
       "  Text(15, 0, '15'),\n",
       "  Text(16, 0, '16'),\n",
       "  Text(17, 0, '17'),\n",
       "  Text(18, 0, '18'),\n",
       "  Text(19, 0, '19')])"
      ]
     },
     "execution_count": 18,
     "metadata": {},
     "output_type": "execute_result"
    },
    {
     "data": {
      "image/png": "[encoded data removed]",
      "text/plain": [
       "<Figure size 640x480 with 1 Axes>"
      ]
     },
     "metadata": {},
     "output_type": "display_data"
    }
   ],
   "source": [
    "%matplotlib inline\n",
    "import matplotlib.pyplot as plt\n",
    "import numpy as np\n",
    "from sklearn.datasets import load_iris\n",
    "from sklearn.model_selection import train_test_split\n",
    "from sklearn.neighbors import KNeighborsClassifier\n",
    "\n",
    "iris = load_iris()\n",
    "X_train, X_test, y_train, y_test = train_test_split(iris['data'], iris['target'], random_state=0, test_size=0.4)\n",
    "error_list = np.zeros(19)\n",
    "\n",
    "for i in range(1,20):\n",
    "    knn_test = KNeighborsClassifier(n_neighbors=i)\n",
    "    knn_test.fit(X_train, y_train)\n",
    "    plt.show()\n",
    "    error = 1 - (knn_test.score(X_test, y_test))\n",
    "    error_list[i-1] = error * 100\n",
    "\n",
    "k = np.arange(1, len(error_list)+1)\n",
    "\n",
    "plt.bar(k, error_list)\n",
    "plt.xlabel(\"Number of Neighbours (K)\")\n",
    "plt.ylabel(\"Error (%)\")\n",
    "plt.xticks(range(1,20))"
   ]
  },
  {
   "cell_type": "markdown",
   "id": "5e846b2d",
   "metadata": {},
   "source": [
    "Here we can observe how the value of $K$ affects the error percentage on a slightly larger testing set, and that the most stable values of are 7, 9,10 and 11."
   ]
  },
  {
   "cell_type": "markdown",
   "id": "f25271d1",
   "metadata": {},
   "source": [
    "3. First, let us check the number of entries that are the same:"
   ]
  },
  {
   "cell_type": "code",
   "execution_count": 16,
   "id": "2a0ef610",
   "metadata": {},
   "outputs": [
    {
     "data": {
      "text/plain": [
       "0.995"
      ]
     },
     "execution_count": 16,
     "metadata": {},
     "output_type": "execute_result"
    }
   ],
   "source": [
    "np.mean(iris['data'] == X)"
   ]
  },
  {
   "cell_type": "markdown",
   "id": "eb7d0f53",
   "metadata": {},
   "source": [
    "Let's check which entries are different using some inefficient code."
   ]
  },
  {
   "cell_type": "code",
   "execution_count": 17,
   "id": "d82c21b2",
   "metadata": {},
   "outputs": [
    {
     "name": "stdout",
     "output_type": "stream",
     "text": [
      "iris entry: [4.9 3.1 1.5 0.2] \tFile entry:  [4.9 3.1 1.5 0.1]\n",
      "iris entry: [4.9 3.6 1.4 0.1] \tFile entry:  [4.9 3.1 1.5 0.1]\n"
     ]
    }
   ],
   "source": [
    "intersect = (iris['data'] == X)\n",
    "\n",
    "for i in range(0, len(intersect)):\n",
    "    for entry in intersect[i]:\n",
    "        if not entry:\n",
    "            print(\"iris entry:\", iris['data'][i], \"\\tFile entry: \", X[i])\n",
    "            break"
   ]
  },
  {
   "cell_type": "markdown",
   "id": "c0a85cc1",
   "metadata": {},
   "source": [
    "Here we can examine the difference between the iris dataset and the given file. "
   ]
  }
 ],
 "metadata": {
  "kernelspec": {
   "display_name": "Python 3",
   "language": "python",
   "name": "python3"
  },
  "language_info": {
   "codemirror_mode": {
    "name": "ipython",
    "version": 3
   },
   "file_extension": ".py",
   "mimetype": "text/x-python",
   "name": "python",
   "nbconvert_exporter": "python",
   "pygments_lexer": "ipython3",
   "version": "3.11.2"
  }
 },
 "nbformat": 4,
 "nbformat_minor": 5
}
